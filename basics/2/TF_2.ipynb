{
 "cells": [
  {
   "cell_type": "markdown",
   "id": "V4EFYBUgPwyx",
   "metadata": {
    "id": "V4EFYBUgPwyx"
   },
   "source": [
    "# TensorFlow crash course\n",
    "### **PART 2**"
   ]
  },
  {
   "cell_type": "markdown",
   "id": "d_E9obUh6547",
   "metadata": {
    "id": "d_E9obUh6547"
   },
   "source": [
    "### Variables"
   ]
  },
  {
   "cell_type": "code",
   "execution_count": 1,
   "id": "mqvaEVx_6_Ru",
   "metadata": {
    "colab": {
     "base_uri": "https://localhost:8080/"
    },
    "id": "mqvaEVx_6_Ru",
    "outputId": "521511ee-b6ca-47da-954c-739b5c6632cd"
   },
   "outputs": [
    {
     "name": "stdout",
     "output_type": "stream",
     "text": [
      "<tf.Variable 'Variable:0' shape=(2, 3) dtype=int32, numpy=\n",
      "array([[1, 2, 3],\n",
      "       [4, 5, 6]], dtype=int32)>\n"
     ]
    }
   ],
   "source": [
    "import tensorflow as tf\n",
    "\n",
    "# Variables are mutable unlike tf.Tensor which provides the capability of adjusting them\n",
    "tensor = tf.Variable([[1, 2, 3], [4, 5, 6]])\n",
    "print(tensor)"
   ]
  },
  {
   "cell_type": "markdown",
   "id": "vqMEqmgK8EFC",
   "metadata": {
    "id": "vqMEqmgK8EFC"
   },
   "source": [
    "### Variable-Assignment"
   ]
  },
  {
   "cell_type": "code",
   "execution_count": 2,
   "id": "LdQaie8y8M69",
   "metadata": {
    "colab": {
     "base_uri": "https://localhost:8080/"
    },
    "id": "LdQaie8y8M69",
    "outputId": "04f11b02-e0ae-46ed-9b83-2005589770f6"
   },
   "outputs": [
    {
     "name": "stdout",
     "output_type": "stream",
     "text": [
      "<tf.Variable 'Variable:0' shape=(2, 3) dtype=int32, numpy=\n",
      "array([[1, 2, 1],\n",
      "       [4, 5, 1]], dtype=int32)>\n",
      "<tf.Variable 'Variable:0' shape=(2, 3) dtype=int32, numpy=\n",
      "array([[0, 2, 1],\n",
      "       [0, 5, 1]], dtype=int32)>\n"
     ]
    }
   ],
   "source": [
    "tensor[:, 2].assign([1, 1]) \n",
    "#    ======           ===\n",
    "# <Given index> <Given values> \n",
    "# Assigns the given values to the given indexes\n",
    "print(tensor)\n",
    "\n",
    "# Another way of assigment is to use (scatter_nd_update)\n",
    "tensor.scatter_nd_update(indices=[[0, 0], [1, 0]], updates=[0, 0])\n",
    "# The given values to the <updates> key argument are assigned to indices which the <indices> key argument got \n",
    "print(tensor)"
   ]
  },
  {
   "cell_type": "markdown",
   "id": "rCYCS1fd-3Tp",
   "metadata": {
    "id": "rCYCS1fd-3Tp"
   },
   "source": [
    "### Common-Tensor-Structures\n",
    "### *String tensor*\n",
    "### *Ragged tensor*\n",
    "### *Sparse tensor*\n",
    "### *Tensor array*\n",
    "### *Set*"
   ]
  },
  {
   "cell_type": "markdown",
   "id": "sBme_zZslfMj",
   "metadata": {
    "id": "sBme_zZslfMj"
   },
   "source": [
    "### String tensor\n",
    "#### *This type of structure is mostly used in natural language processing(nlp)*"
   ]
  },
  {
   "cell_type": "code",
   "execution_count": 3,
   "id": "GaOgpVO3ljgD",
   "metadata": {
    "colab": {
     "base_uri": "https://localhost:8080/"
    },
    "id": "GaOgpVO3ljgD",
    "outputId": "fbf4bef1-6f10-46a1-ad3c-ecd7e68221e7"
   },
   "outputs": [
    {
     "name": "stdout",
     "output_type": "stream",
     "text": [
      "tf.Tensor(b'TensorFlow', shape=(), dtype=string)\n",
      "tf.Tensor([ 84 101 110 115 111 114  70 108 111 119], shape=(10,), dtype=int32)\n",
      "tf.Tensor([4 5 5 3], shape=(4,), dtype=int32)\n"
     ]
    }
   ],
   "source": [
    "my_string = \"TensorFlow\"\n",
    "# Encoding\n",
    "# In order to encode a tensor string, you should first calculate the ascii\n",
    "# number of characters using the ord() function to have the dtype of int32\n",
    "encoded_string = tf.strings.unicode_encode([ord(char) for char in my_string], \"UTF-8\")\n",
    "print(encoded_string)\n",
    "# Decoding\n",
    "# The returned value will be the ascii number of characters in your string\n",
    "decoded_string = tf.strings.unicode_decode(encoded_string, \"UTF-8\")\n",
    "print(decoded_string)\n",
    "# Len in string tensors\n",
    "string_tensor = tf.constant([\"Bear\", \"Tiger\", \"Sheep\", \"Cat\"]) #TensorFlow automatically encodes the strings\n",
    "string_length = tf.strings.length(string_tensor, unit=\"UTF8_CHAR\")\n",
    "print(string_length)"
   ]
  },
  {
   "cell_type": "markdown",
   "id": "7oYgwPyWptpd",
   "metadata": {
    "id": "7oYgwPyWptpd"
   },
   "source": [
    "### Ragged tensor\n",
    "### *A tensor containing list of arrays with various dimensions*"
   ]
  },
  {
   "cell_type": "code",
   "execution_count": 4,
   "id": "m4eUUnLNpxNw",
   "metadata": {
    "colab": {
     "base_uri": "https://localhost:8080/"
    },
    "id": "m4eUUnLNpxNw",
    "outputId": "cad564cc-15c5-4175-c653-52ce7fc9f7f0"
   },
   "outputs": [
    {
     "name": "stdout",
     "output_type": "stream",
     "text": [
      "<tf.RaggedTensor [[1, 2, 3], [4, 5], [6], []]> <tf.RaggedTensor [[], [1], [2, 3], [4, 5, 6]]>\n",
      "Concatenation along axis 0 <tf.RaggedTensor [[1, 2, 3], [4, 5], [6], [], [], [1], [2, 3], [4, 5, 6]]>\n",
      "|====================================================================================================|\n",
      "Concatenation along axis 1 <tf.RaggedTensor [[1, 2, 3], [4, 5, 1], [6, 2, 3], [4, 5, 6]]>\n",
      "tf.Tensor(\n",
      "[[1 2 3]\n",
      " [4 5 0]\n",
      " [6 0 0]\n",
      " [0 0 0]], shape=(4, 3), dtype=int32) tf.Tensor(\n",
      "[[0 0 0]\n",
      " [1 0 0]\n",
      " [2 3 0]\n",
      " [4 5 6]], shape=(4, 3), dtype=int32)\n"
     ]
    }
   ],
   "source": [
    "ragged_tensor1 = tf.ragged.constant([[1, 2, 3], [4, 5], [6], []])\n",
    "ragged_tensor2 =  tf.ragged.constant([[], [1], [2, 3], [4, 5, 6]]) \n",
    "print(ragged_tensor1, ragged_tensor2)\n",
    "# Ragged tensor concatenation along X and Y axis\n",
    "new_tensor1 = tf.concat([ragged_tensor1, ragged_tensor2], axis=0)\n",
    "new_tensor2 = tf.concat([ragged_tensor1, ragged_tensor2], axis=1)\n",
    "print(f\"Concatenation along axis 0 {new_tensor1}\", f\"Concatenation along axis 1 {new_tensor2}\", sep=\"\\n|\"+100*\"=\"+\"|\\n\")\n",
    "# Ragged tensor to Regular tensor conversion \n",
    "# After the conversion zero-padding occurs on your tensor to make all the sub array shapes equivalent\n",
    "print(ragged_tensor1.to_tensor(), ragged_tensor2.to_tensor())"
   ]
  },
  {
   "cell_type": "markdown",
   "id": "Breqxkly3gjj",
   "metadata": {
    "id": "Breqxkly3gjj"
   },
   "source": [
    "### Sparse tensor\n",
    "### *A tensor containing zeros(similar to np.zeros)*"
   ]
  },
  {
   "cell_type": "code",
   "execution_count": 5,
   "id": "b35jST5a3uKs",
   "metadata": {
    "colab": {
     "base_uri": "https://localhost:8080/"
    },
    "id": "b35jST5a3uKs",
    "outputId": "6b49d4c6-760d-4256-dc83-5a7b47cd1df8"
   },
   "outputs": [
    {
     "name": "stdout",
     "output_type": "stream",
     "text": [
      "tf.Tensor(\n",
      "[[1 0]\n",
      " [0 1]], shape=(2, 2), dtype=int32)\n"
     ]
    }
   ],
   "source": [
    "# indices : The indices in your tensor to be assigned by the given values to <values> argument\n",
    "# values : Values to be assigned to the given indices\n",
    "# dense_shape : shape of the tensor\n",
    "sparse_tensor = tf.SparseTensor(indices=[[0, 0], [1, 1]], values=[1, 1], dense_shape=[2, 2])\n",
    "# In order to visualize the created tensor, we use the tf.sparse.to_dense function\n",
    "print(tf.sparse.to_dense(sparse_tensor)) #The output is supposed to be a unit matrix(np.eye(2))"
   ]
  },
  {
   "cell_type": "markdown",
   "id": "-sXOoVyZ5Qxn",
   "metadata": {
    "id": "-sXOoVyZ5Qxn"
   },
   "source": [
    "### Tensor array\n",
    "### *A tensor containing a list of tensors*\n",
    "#### *Useful for dynamic models*"
   ]
  },
  {
   "cell_type": "code",
   "execution_count": 6,
   "id": "LSN4gCBv5VRf",
   "metadata": {
    "colab": {
     "base_uri": "https://localhost:8080/"
    },
    "id": "LSN4gCBv5VRf",
    "outputId": "d4a56ed8-3a0c-4e0d-ea59-b159ea45521e"
   },
   "outputs": [
    {
     "name": "stdout",
     "output_type": "stream",
     "text": [
      "tf.Tensor(\n",
      "[[1. 2.]\n",
      " [3. 4.]\n",
      " [5. 6.]\n",
      " [7. 8.]], shape=(4, 2), dtype=float32)\n"
     ]
    }
   ],
   "source": [
    "# The following function creates a tensor with 4 slots for our potential float32 tensors to be written in\n",
    "tensor_array = tf.TensorArray(dtype=tf.float32, size=4)\n",
    "# Filling the slots\n",
    "#                                slot        value\n",
    "#                                ==== =====================\n",
    "tensor_array = tensor_array.write(0, tf.constant([1., 2.]))\n",
    "tensor_array = tensor_array.write(1, tf.constant([3., 4.]))\n",
    "tensor_array = tensor_array.write(2, tf.constant([5., 6.]))\n",
    "tensor_array = tensor_array.write(3, tf.constant([7., 8.]))\n",
    "# In order to read a slot you can use array.read(slot_number) but that's gonna pop the item out\n",
    "#=============================================================================================\n",
    "# To visualize a TensorArray you should use the .stack() function\n",
    "print(tensor_array.stack())"
   ]
  },
  {
   "cell_type": "markdown",
   "id": "PHJn7dnA-LeS",
   "metadata": {
    "id": "PHJn7dnA-LeS"
   },
   "source": [
    "### Sets\n",
    "### *The same as python sets but in a tensor form*"
   ]
  },
  {
   "cell_type": "code",
   "execution_count": 7,
   "id": "DfmDff5z-ORU",
   "metadata": {
    "colab": {
     "base_uri": "https://localhost:8080/"
    },
    "id": "DfmDff5z-ORU",
    "outputId": "05540f4e-bf35-4f42-be58-115df0e57079"
   },
   "outputs": [
    {
     "name": "stdout",
     "output_type": "stream",
     "text": [
      "tf.Tensor([[1 2 3 4 5]], shape=(1, 5), dtype=int32)\n",
      "tf.Tensor([[1 2]], shape=(1, 2), dtype=int32)\n",
      "tf.Tensor([[3]], shape=(1, 1), dtype=int32)\n"
     ]
    }
   ],
   "source": [
    "tensor1 = tf.constant([[1, 2, 3]]) \n",
    "tensor2 = tf.constant([[3, 4, 5]])\n",
    "# Union of two tensor sets\n",
    "union_set = tf.sets.union(tensor1, tensor2) #A sparse tensor is returned so we use .to_dense to visualize it\n",
    "print(tf.sparse.to_dense(union_set))\n",
    "# Difference of two tensor sets\n",
    "diff_set = tf.sets.difference(tensor1, tensor2)\n",
    "print(tf.sparse.to_dense(diff_set))\n",
    "# Intersection of two tensor sets\n",
    "intrs_set= tf.sets.intersection(tensor1, tensor2)\n",
    "print(tf.sparse.to_dense(intrs_set))\n",
    "\n",
    "# Note : If your set contains tensors with various shapes, use zero padding "
   ]
  }
 ],
 "metadata": {
  "colab": {
   "collapsed_sections": [],
   "name": "TF_2.ipynb",
   "provenance": []
  },
  "kernelspec": {
   "display_name": "Python 3 (ipykernel)",
   "language": "python",
   "name": "python3"
  },
  "language_info": {
   "codemirror_mode": {
    "name": "ipython",
    "version": 3
   },
   "file_extension": ".py",
   "mimetype": "text/x-python",
   "name": "python",
   "nbconvert_exporter": "python",
   "pygments_lexer": "ipython3",
   "version": "3.8.6"
  }
 },
 "nbformat": 4,
 "nbformat_minor": 5
}
