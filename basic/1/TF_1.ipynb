{
 "cells": [
  {
   "cell_type": "markdown",
   "id": "V4EFYBUgPwyx",
   "metadata": {
    "id": "V4EFYBUgPwyx"
   },
   "source": [
    "# TensorFlow crash course\n",
    "### **PART 1**"
   ]
  },
  {
   "cell_type": "markdown",
   "id": "4kSEbK3oQ1jY",
   "metadata": {
    "id": "4kSEbK3oQ1jY"
   },
   "source": [
    "## Installation on jupyter notebook"
   ]
  },
  {
   "cell_type": "code",
   "execution_count": 1,
   "id": "Np5GMPxTQ7HN",
   "metadata": {
    "id": "Np5GMPxTQ7HN",
    "outputId": "ff5d730d-5e9a-416b-e101-f99b9df3417c"
   },
   "outputs": [
    {
     "name": "stdout",
     "output_type": "stream",
     "text": [
      "Requirement already satisfied: tensorflow in /srv/conda/envs/notebook/lib/python3.6/site-packages (2.5.0)\n",
      "Requirement already satisfied: tensorboard~=2.5 in /srv/conda/envs/notebook/lib/python3.6/site-packages (from tensorflow) (2.6.0)\n",
      "Requirement already satisfied: six~=1.15.0 in /srv/conda/envs/notebook/lib/python3.6/site-packages (from tensorflow) (1.15.0)\n",
      "Requirement already satisfied: typing-extensions~=3.7.4 in /srv/conda/envs/notebook/lib/python3.6/site-packages (from tensorflow) (3.7.4.3)\n",
      "Requirement already satisfied: keras-preprocessing~=1.1.2 in /srv/conda/envs/notebook/lib/python3.6/site-packages (from tensorflow) (1.1.2)\n",
      "Requirement already satisfied: google-pasta~=0.2 in /srv/conda/envs/notebook/lib/python3.6/site-packages (from tensorflow) (0.2.0)\n",
      "Requirement already satisfied: opt-einsum~=3.3.0 in /srv/conda/envs/notebook/lib/python3.6/site-packages (from tensorflow) (3.3.0)\n",
      "Requirement already satisfied: numpy~=1.19.2 in /srv/conda/envs/notebook/lib/python3.6/site-packages (from tensorflow) (1.19.5)\n",
      "Requirement already satisfied: tensorflow-estimator<2.6.0,>=2.5.0rc0 in /srv/conda/envs/notebook/lib/python3.6/site-packages (from tensorflow) (2.5.0)\n",
      "Requirement already satisfied: grpcio~=1.34.0 in /srv/conda/envs/notebook/lib/python3.6/site-packages (from tensorflow) (1.34.1)\n",
      "Requirement already satisfied: wrapt~=1.12.1 in /srv/conda/envs/notebook/lib/python3.6/site-packages (from tensorflow) (1.12.1)\n",
      "Requirement already satisfied: wheel~=0.35 in /srv/conda/envs/notebook/lib/python3.6/site-packages (from tensorflow) (0.36.2)\n",
      "Requirement already satisfied: gast==0.4.0 in /srv/conda/envs/notebook/lib/python3.6/site-packages (from tensorflow) (0.4.0)\n",
      "Requirement already satisfied: keras-nightly~=2.5.0.dev in /srv/conda/envs/notebook/lib/python3.6/site-packages (from tensorflow) (2.5.0.dev2021032900)\n",
      "Requirement already satisfied: h5py~=3.1.0 in /srv/conda/envs/notebook/lib/python3.6/site-packages (from tensorflow) (3.1.0)\n",
      "Requirement already satisfied: termcolor~=1.1.0 in /srv/conda/envs/notebook/lib/python3.6/site-packages (from tensorflow) (1.1.0)\n",
      "Requirement already satisfied: astunparse~=1.6.3 in /srv/conda/envs/notebook/lib/python3.6/site-packages (from tensorflow) (1.6.3)\n",
      "Requirement already satisfied: absl-py~=0.10 in /srv/conda/envs/notebook/lib/python3.6/site-packages (from tensorflow) (0.13.0)\n",
      "Requirement already satisfied: flatbuffers~=1.12.0 in /srv/conda/envs/notebook/lib/python3.6/site-packages (from tensorflow) (1.12)\n",
      "Requirement already satisfied: protobuf>=3.9.2 in /srv/conda/envs/notebook/lib/python3.6/site-packages (from tensorflow) (3.17.3)\n",
      "Requirement already satisfied: cached-property in /srv/conda/envs/notebook/lib/python3.6/site-packages (from h5py~=3.1.0->tensorflow) (1.5.2)\n",
      "Requirement already satisfied: markdown>=2.6.8 in /srv/conda/envs/notebook/lib/python3.6/site-packages (from tensorboard~=2.5->tensorflow) (3.3.4)\n",
      "Requirement already satisfied: google-auth<2,>=1.6.3 in /srv/conda/envs/notebook/lib/python3.6/site-packages (from tensorboard~=2.5->tensorflow) (1.34.0)\n",
      "Requirement already satisfied: setuptools>=41.0.0 in /srv/conda/envs/notebook/lib/python3.6/site-packages (from tensorboard~=2.5->tensorflow) (49.6.0.post20210108)\n",
      "Requirement already satisfied: tensorboard-plugin-wit>=1.6.0 in /srv/conda/envs/notebook/lib/python3.6/site-packages (from tensorboard~=2.5->tensorflow) (1.8.0)\n",
      "Requirement already satisfied: google-auth-oauthlib<0.5,>=0.4.1 in /srv/conda/envs/notebook/lib/python3.6/site-packages (from tensorboard~=2.5->tensorflow) (0.4.5)\n",
      "Requirement already satisfied: werkzeug>=0.11.15 in /srv/conda/envs/notebook/lib/python3.6/site-packages (from tensorboard~=2.5->tensorflow) (2.0.1)\n",
      "Requirement already satisfied: requests<3,>=2.21.0 in /srv/conda/envs/notebook/lib/python3.6/site-packages (from tensorboard~=2.5->tensorflow) (2.25.1)\n",
      "Requirement already satisfied: tensorboard-data-server<0.7.0,>=0.6.0 in /srv/conda/envs/notebook/lib/python3.6/site-packages (from tensorboard~=2.5->tensorflow) (0.6.1)\n",
      "Requirement already satisfied: rsa<5,>=3.1.4 in /srv/conda/envs/notebook/lib/python3.6/site-packages (from google-auth<2,>=1.6.3->tensorboard~=2.5->tensorflow) (4.7.2)\n",
      "Requirement already satisfied: pyasn1-modules>=0.2.1 in /srv/conda/envs/notebook/lib/python3.6/site-packages (from google-auth<2,>=1.6.3->tensorboard~=2.5->tensorflow) (0.2.8)\n",
      "Requirement already satisfied: cachetools<5.0,>=2.0.0 in /srv/conda/envs/notebook/lib/python3.6/site-packages (from google-auth<2,>=1.6.3->tensorboard~=2.5->tensorflow) (4.2.2)\n",
      "Requirement already satisfied: requests-oauthlib>=0.7.0 in /srv/conda/envs/notebook/lib/python3.6/site-packages (from google-auth-oauthlib<0.5,>=0.4.1->tensorboard~=2.5->tensorflow) (1.3.0)\n",
      "Requirement already satisfied: importlib-metadata in /srv/conda/envs/notebook/lib/python3.6/site-packages (from markdown>=2.6.8->tensorboard~=2.5->tensorflow) (3.4.0)\n",
      "Requirement already satisfied: pyasn1<0.5.0,>=0.4.6 in /srv/conda/envs/notebook/lib/python3.6/site-packages (from pyasn1-modules>=0.2.1->google-auth<2,>=1.6.3->tensorboard~=2.5->tensorflow) (0.4.8)\n",
      "Requirement already satisfied: chardet<5,>=3.0.2 in /srv/conda/envs/notebook/lib/python3.6/site-packages (from requests<3,>=2.21.0->tensorboard~=2.5->tensorflow) (4.0.0)\n",
      "Requirement already satisfied: certifi>=2017.4.17 in /srv/conda/envs/notebook/lib/python3.6/site-packages (from requests<3,>=2.21.0->tensorboard~=2.5->tensorflow) (2020.12.5)\n",
      "Requirement already satisfied: urllib3<1.27,>=1.21.1 in /srv/conda/envs/notebook/lib/python3.6/site-packages (from requests<3,>=2.21.0->tensorboard~=2.5->tensorflow) (1.26.3)\n",
      "Requirement already satisfied: idna<3,>=2.5 in /srv/conda/envs/notebook/lib/python3.6/site-packages (from requests<3,>=2.21.0->tensorboard~=2.5->tensorflow) (2.10)\n",
      "Requirement already satisfied: oauthlib>=3.0.0 in /srv/conda/envs/notebook/lib/python3.6/site-packages (from requests-oauthlib>=0.7.0->google-auth-oauthlib<0.5,>=0.4.1->tensorboard~=2.5->tensorflow) (3.0.1)\n",
      "Requirement already satisfied: dataclasses in /srv/conda/envs/notebook/lib/python3.6/site-packages (from werkzeug>=0.11.15->tensorboard~=2.5->tensorflow) (0.7)\n",
      "Requirement already satisfied: zipp>=0.5 in /srv/conda/envs/notebook/lib/python3.6/site-packages (from importlib-metadata->markdown>=2.6.8->tensorboard~=2.5->tensorflow) (3.4.0)\n"
     ]
    }
   ],
   "source": [
    "!pip install tensorflow"
   ]
  },
  {
   "cell_type": "markdown",
   "id": "VaG0nY55RBvL",
   "metadata": {
    "id": "VaG0nY55RBvL"
   },
   "source": [
    "### Import the TensorFlow framework"
   ]
  },
  {
   "cell_type": "code",
   "execution_count": 2,
   "id": "vsJXyRHwRA4d",
   "metadata": {
    "id": "vsJXyRHwRA4d"
   },
   "outputs": [],
   "source": [
    "import tensorflow as tf"
   ]
  },
  {
   "cell_type": "markdown",
   "id": "i97KY48pQI7i",
   "metadata": {
    "id": "i97KY48pQI7i"
   },
   "source": [
    "### Tensor, matrix and scalar creation using tensorflow"
   ]
  },
  {
   "cell_type": "code",
   "execution_count": 3,
   "id": "reverse-washington",
   "metadata": {
    "colab": {
     "base_uri": "https://localhost:8080/"
    },
    "id": "reverse-washington",
    "outputId": "a0874c18-b9da-43c4-b880-7de072a8bf1b"
   },
   "outputs": [
    {
     "name": "stdout",
     "output_type": "stream",
     "text": [
      "tf.Tensor(\n",
      "[[[1 2 3]]\n",
      "\n",
      " [[4 5 6]]], shape=(2, 1, 3), dtype=int32) tf.Tensor(\n",
      "[[1 2]\n",
      " [3 4]], shape=(2, 2), dtype=int32) tf.Tensor(1, shape=(), dtype=int32)\n"
     ]
    }
   ],
   "source": [
    "tensor = tf.constant([[[1, 2, 3]], [[4, 5, 6]]])\n",
    "matrix = tf.constant([[1, 2], [3, 4]])\n",
    "scalar = tf.constant(1) \n",
    "print(tensor, matrix, scalar)"
   ]
  },
  {
   "cell_type": "markdown",
   "id": "XucxzGY2RfWM",
   "metadata": {
    "id": "XucxzGY2RfWM"
   },
   "source": [
    "### Get the shape and data type of a particular tensor"
   ]
  },
  {
   "cell_type": "code",
   "execution_count": 4,
   "id": "unable-decrease",
   "metadata": {
    "colab": {
     "base_uri": "https://localhost:8080/"
    },
    "id": "unable-decrease",
    "outputId": "121e4bd1-bb47-4ede-c604-3d4d081a9320"
   },
   "outputs": [
    {
     "name": "stdout",
     "output_type": "stream",
     "text": [
      "(2, 1, 3) (2, 2) ()\n",
      "<dtype: 'int32'> <dtype: 'int32'> <dtype: 'int32'>\n"
     ]
    }
   ],
   "source": [
    "#  Shapes\n",
    "#===============================================|\n",
    "print(tensor.shape, matrix.shape, scalar.shape)\n",
    "#===============================================|\n",
    "#  DataTypes\n",
    "print(tensor.dtype, matrix.dtype, scalar.dtype)\n",
    "#===============================================|"
   ]
  },
  {
   "cell_type": "markdown",
   "id": "rjHYtrCxRrj3",
   "metadata": {
    "id": "rjHYtrCxRrj3"
   },
   "source": [
    "### Transpose of a tensor"
   ]
  },
  {
   "cell_type": "code",
   "execution_count": 5,
   "id": "marine-brake",
   "metadata": {
    "colab": {
     "base_uri": "https://localhost:8080/"
    },
    "id": "marine-brake",
    "outputId": "debd093d-1a5d-41e2-a3d8-c90bb449b180"
   },
   "outputs": [
    {
     "name": "stdout",
     "output_type": "stream",
     "text": [
      "tf.Tensor(\n",
      "[[[1 4]]\n",
      "\n",
      " [[2 5]]\n",
      "\n",
      " [[3 6]]], shape=(3, 1, 2), dtype=int32)\n"
     ]
    }
   ],
   "source": [
    "print(tf.transpose(tensor))"
   ]
  },
  {
   "cell_type": "markdown",
   "id": "Pk2u7r0eR107",
   "metadata": {
    "id": "Pk2u7r0eR107"
   },
   "source": [
    "### Sum, Mean, Min, Max"
   ]
  },
  {
   "cell_type": "code",
   "execution_count": 6,
   "id": "small-rebecca",
   "metadata": {
    "colab": {
     "base_uri": "https://localhost:8080/"
    },
    "id": "small-rebecca",
    "outputId": "45c2fa7e-aa08-46d2-f35a-ec6d97b61a15"
   },
   "outputs": [
    {
     "name": "stdout",
     "output_type": "stream",
     "text": [
      "tensor\n",
      "Sum : 21\n",
      "Mean : 3\n",
      "Min : 1\n",
      "Max : 6\n",
      "|=================|\n",
      "matrix\n",
      "Sum : 10\n",
      "Mean : 2\n",
      "Min : 1\n",
      "Max : 4\n",
      "|=================|\n",
      "scalar\n",
      "Sum : 1\n",
      "Mean : 1\n",
      "Min : 1\n",
      "Max : 1\n",
      "|=================|\n"
     ]
    }
   ],
   "source": [
    "for value, name in zip([tensor, matrix, scalar], [\"tensor\", \"matrix\", \"scalar\"]):\n",
    "    print(f\"{name}\")\n",
    "    print(f\"Sum : {tf.reduce_sum(value)}\\nMean : {tf.reduce_mean(value)}\")\n",
    "    print(f\"Min : {tf.reduce_min(value)}\\nMax : {tf.reduce_max(value)}\", end=\"\\n|=================|\\n\")"
   ]
  },
  {
   "cell_type": "markdown",
   "id": "YcsZPDMIR_Nz",
   "metadata": {
    "id": "YcsZPDMIR_Nz"
   },
   "source": [
    "### Common-Operators\n",
    "### *1 - Addition*\n",
    "### *2 - Subtraction*\n",
    "### *3 - Multiplication*\n",
    "### *4 - Division*\n",
    "### *5 - square*\n",
    "### *6 - sqrt*\n",
    "#### *Visit [here](https://www.tensorflow.org/api_docs/python/tf/math#functions_2) for more reference.*"
   ]
  },
  {
   "cell_type": "code",
   "execution_count": 7,
   "id": "bigger-offset",
   "metadata": {
    "colab": {
     "base_uri": "https://localhost:8080/"
    },
    "id": "bigger-offset",
    "outputId": "ab61d938-2628-42a1-b642-d60c4dbe7cf0"
   },
   "outputs": [
    {
     "name": "stdout",
     "output_type": "stream",
     "text": [
      "[[[1 2 3]]\n",
      "\n",
      " [[4 5 6]]] <add> [[[1 2 3]]\n",
      "\n",
      " [[4 5 6]]] = [[[ 2  4  6]]\n",
      "\n",
      " [[ 8 10 12]]]\n",
      "|========================================|\n",
      "[[[1 2 3]]\n",
      "\n",
      " [[4 5 6]]] <subtract> [[[1 2 3]]\n",
      "\n",
      " [[4 5 6]]] = [[[0 0 0]]\n",
      "\n",
      " [[0 0 0]]]\n",
      "|========================================|\n",
      "[[[1 2 3]]\n",
      "\n",
      " [[4 5 6]]] <multiply> [[[1 2 3]]\n",
      "\n",
      " [[4 5 6]]] = [[[ 1  4  9]]\n",
      "\n",
      " [[16 25 36]]]\n",
      "|========================================|\n",
      "[[[1 2 3]]\n",
      "\n",
      " [[4 5 6]]] <divide> [[[1 2 3]]\n",
      "\n",
      " [[4 5 6]]] = [[[1. 1. 1.]]\n",
      "\n",
      " [[1. 1. 1.]]]\n",
      "|========================================|\n",
      "[[[1 2 3]]\n",
      "\n",
      " [[4 5 6]]] <square> = [[[ 1.  4.  9.]]\n",
      "\n",
      " [[16. 25. 36.]]]\n",
      "|========================================|\n",
      "[[[1 2 3]]\n",
      "\n",
      " [[4 5 6]]] <sqrt> = [[[1.    1.414 1.732]]\n",
      "\n",
      " [[2.    2.236 2.45 ]]]\n",
      "|========================================|\n"
     ]
    }
   ],
   "source": [
    "for func in [tf.math.add, tf.math.subtract, tf.math.multiply, tf.math.divide, tf.math.square, tf.math.sqrt]:\n",
    "    if func.__name__ not in ('square', 'sqrt'):\n",
    "        print(f\"{tensor} <{func.__name__}> {tensor} = {func(tensor, tensor)}\", end=\"\\n|========================================|\\n\")\n",
    "    else:\n",
    "        #  We'll see tf.cast in the last cell so just know it changes the data type\n",
    "        print(f\"{tensor} <{func.__name__}> = {func(tf.cast(tensor, tf.float16))}\", end=\"\\n|========================================|\\n\")"
   ]
  },
  {
   "cell_type": "markdown",
   "id": "QTblfp18S2Qb",
   "metadata": {
    "id": "QTblfp18S2Qb"
   },
   "source": [
    "### NumPy Conversion"
   ]
  },
  {
   "cell_type": "code",
   "execution_count": 8,
   "id": "killing-second",
   "metadata": {
    "colab": {
     "base_uri": "https://localhost:8080/"
    },
    "id": "killing-second",
    "outputId": "8d5faa2a-6345-46ce-cceb-12b88fd12df8"
   },
   "outputs": [
    {
     "name": "stdout",
     "output_type": "stream",
     "text": [
      "NumPy form of tensor : [[[1 2 3]]\n",
      "\n",
      " [[4 5 6]]]\n",
      "|=================|\n",
      "NumPy form of matrix : [[1 2]\n",
      " [3 4]]\n",
      "|=================|\n",
      "NumPy form of scalar : 1\n",
      "|=================|\n"
     ]
    }
   ],
   "source": [
    "for value, name in zip([tensor, matrix, scalar], [\"tensor\", \"matrix\", \"scalar\"]):\n",
    "    print(f\"NumPy form of {name} : {value.numpy()}\", end=\"\\n|=================|\\n\")"
   ]
  },
  {
   "cell_type": "markdown",
   "id": "kEWQQFyAS7Sk",
   "metadata": {
    "id": "kEWQQFyAS7Sk"
   },
   "source": [
    "### Type Conversions"
   ]
  },
  {
   "cell_type": "code",
   "execution_count": 9,
   "id": "better-garden",
   "metadata": {
    "colab": {
     "base_uri": "https://localhost:8080/"
    },
    "id": "better-garden",
    "outputId": "6d1e52c8-9cbb-4d3c-92ac-b87132870766"
   },
   "outputs": [
    {
     "name": "stdout",
     "output_type": "stream",
     "text": [
      "tf.Tensor(\n",
      "[[[ 6.  8.]]\n",
      "\n",
      " [[10. 12.]]], shape=(2, 1, 2), dtype=float32)\n"
     ]
    }
   ],
   "source": [
    "tensor1 = tf.constant([[[1, 2]], [[3, 4]]], dtype=tf.float32)\n",
    "tensor2 = tf.constant([[[5, 6]], [[7, 8]]], dtype=tf.int32)\n",
    "#  Don't attempt to perform operations of two various data types otherwise you're gonna face errors\n",
    "#  Change the data type\n",
    "new_tensor2 = tf.cast(tensor2, tf.float32)\n",
    "print(tensor1 + new_tensor2)"
   ]
  }
 ],
 "metadata": {
  "colab": {
   "collapsed_sections": [],
   "name": "TF-1.ipynb",
   "provenance": []
  },
  "kernelspec": {
   "display_name": "Python 3",
   "language": "python",
   "name": "python3"
  },
  "language_info": {
   "codemirror_mode": {
    "name": "ipython",
    "version": 3
   },
   "file_extension": ".py",
   "mimetype": "text/x-python",
   "name": "python",
   "nbconvert_exporter": "python",
   "pygments_lexer": "ipython3",
   "version": "3.8.8"
  }
 },
 "nbformat": 4,
 "nbformat_minor": 5
}
