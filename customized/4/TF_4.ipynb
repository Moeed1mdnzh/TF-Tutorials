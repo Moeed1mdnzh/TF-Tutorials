{
 "cells": [
  {
   "cell_type": "markdown",
   "id": "V4EFYBUgPwyx",
   "metadata": {
    "id": "V4EFYBUgPwyx"
   },
   "source": [
    "# TensorFlow crash course\n",
    "### **PART 4**"
   ]
  },
  {
   "cell_type": "markdown",
   "id": "JFMFMbJNAmRK",
   "metadata": {
    "id": "JFMFMbJNAmRK"
   },
   "source": [
    "### Previous dataset(MNIST) loading"
   ]
  },
  {
   "cell_type": "code",
   "execution_count": 1,
   "id": "_qQGs9oVAo3K",
   "metadata": {
    "colab": {
     "base_uri": "https://localhost:8080/"
    },
    "id": "_qQGs9oVAo3K",
    "outputId": "06aba924-7c32-4aa3-fd3b-660b00bf2b60"
   },
   "outputs": [
    {
     "name": "stdout",
     "output_type": "stream",
     "text": [
      "(10000, 784) (1000, 784) (10000, 10) (1000, 10)\n"
     ]
    }
   ],
   "source": [
    "import numpy as np \n",
    "from tensorflow.keras.datasets import mnist \n",
    "from tensorflow.keras.utils import to_categorical \n",
    "\n",
    "(X_train, y_train), (X_test, y_test) = mnist.load_data() \n",
    "X_train, X_test = X_train[:10000], X_test[:1000]\n",
    "y_train, y_test = y_train[:10000], y_test[:1000]\n",
    "X_train, X_test = X_train.reshape(-1, 28*28) / 255.0, X_test.reshape(-1, 28*28) / 255.0\n",
    "y_train, y_test = to_categorical(y_train, 10), to_categorical(y_test, 10)\n",
    "print(X_train.shape, X_test.shape, y_train.shape, y_test.shape)"
   ]
  },
  {
   "cell_type": "markdown",
   "id": "6pcByEh-Ekzl",
   "metadata": {
    "id": "6pcByEh-Ekzl"
   },
   "source": [
    "### Custom metric\n",
    "#### Some metrics are called **Streaming Metrics** due to being updated gradually, batch after batch like precision"
   ]
  },
  {
   "cell_type": "code",
   "execution_count": 2,
   "id": "9M05VKTvEllJ",
   "metadata": {
    "colab": {
     "base_uri": "https://localhost:8080/"
    },
    "id": "9M05VKTvEllJ",
    "outputId": "bbca5ece-6d88-4ade-ca47-5dd6d818b6e8"
   },
   "outputs": [
    {
     "name": "stdout",
     "output_type": "stream",
     "text": [
      "Epoch 1/10\n",
      "313/313 [==============================] - 2s 3ms/step - loss: 1.7054 - ratio: 0.9908 - val_loss: 1.0604 - val_ratio: 0.9972\n",
      "Epoch 2/10\n",
      "313/313 [==============================] - 1s 2ms/step - loss: 0.6838 - ratio: 0.9975 - val_loss: 0.6153 - val_ratio: 1.0014\n",
      "Epoch 3/10\n",
      "313/313 [==============================] - 1s 2ms/step - loss: 0.4619 - ratio: 0.9961 - val_loss: 0.5123 - val_ratio: 1.0037\n",
      "Epoch 4/10\n",
      "313/313 [==============================] - 1s 2ms/step - loss: 0.3787 - ratio: 0.9967 - val_loss: 0.4704 - val_ratio: 1.0011\n",
      "Epoch 5/10\n",
      "313/313 [==============================] - 1s 2ms/step - loss: 0.3311 - ratio: 0.9967 - val_loss: 0.3927 - val_ratio: 0.9983\n",
      "Epoch 6/10\n",
      "313/313 [==============================] - 1s 2ms/step - loss: 0.2978 - ratio: 1.0000 - val_loss: 0.3750 - val_ratio: 0.9993\n",
      "Epoch 7/10\n",
      "313/313 [==============================] - 1s 2ms/step - loss: 0.2724 - ratio: 0.9982 - val_loss: 0.3563 - val_ratio: 0.9981\n",
      "Epoch 8/10\n",
      "313/313 [==============================] - 1s 2ms/step - loss: 0.2516 - ratio: 1.0014 - val_loss: 0.3492 - val_ratio: 1.0006\n",
      "Epoch 9/10\n",
      "313/313 [==============================] - 1s 2ms/step - loss: 0.2335 - ratio: 0.9977 - val_loss: 0.3085 - val_ratio: 0.9992\n",
      "Epoch 10/10\n",
      "313/313 [==============================] - 1s 2ms/step - loss: 0.2194 - ratio: 0.9971 - val_loss: 0.2974 - val_ratio: 0.9974\n",
      "32/32 [==============================] - 0s 2ms/step - loss: 0.2974 - ratio: 0.9974\n"
     ]
    },
    {
     "data": {
      "text/plain": [
       "[0.2973668873310089, 0.9974361658096313]"
      ]
     },
     "execution_count": 2,
     "metadata": {
      "tags": []
     },
     "output_type": "execute_result"
    }
   ],
   "source": [
    "import tensorflow as tf \n",
    "from tensorflow.keras.layers import Dense\n",
    "from tensorflow.keras.metrics import Metric\n",
    "from tensorflow.keras.optimizers import SGD\n",
    "from tensorflow.keras.models import Sequential, load_model\n",
    "\n",
    "\n",
    "#  Implement a simple ratio metric(y_true over y_pred)\n",
    "class Ratio(Metric):\n",
    "    def __init__(self, **kwargs): \n",
    "         super().__init__(**kwargs)\n",
    "         #  add_weight() method creates the variables needed to keep track of\n",
    "         self.mean_ratio = self.add_weight(\"mean_ratio\", initializer=\"zeros\")\n",
    "\n",
    "    #  Updater\n",
    "    def update_state(self, y_true, y_pred, sample_weight=None):\n",
    "        y_true = tf.add(y_true, tf.constant(1, dtype=tf.float32))\n",
    "        y_pred = tf.add(y_pred, tf.constant(1, dtype=tf.float32))\n",
    "        ratio = tf.divide(y_true, y_pred)\n",
    "        ratio = tf.reduce_mean(ratio)\n",
    "        self.mean_ratio.assign(ratio)\n",
    "\n",
    "    def result(self):\n",
    "        return self.mean_ratio\n",
    "    \n",
    "    #  Reset the variables\n",
    "    def reset_state(self):\n",
    "        self.mean_ratio.assign(0)\n",
    "\n",
    "    def get_config(self):\n",
    "        base_config = super().get_config()\n",
    "        return {**base_config}\n",
    "\n",
    "dnn = Sequential()\n",
    "dnn.add(Dense(128, input_shape=(784, ), activation=\"relu\"))\n",
    "dnn.add(Dense(64, activation=\"relu\"))\n",
    "dnn.add(Dense(32, activation=\"relu\"))\n",
    "dnn.add(Dense(10, activation=\"softmax\"))\n",
    "dnn.compile(loss=\"categorical_crossentropy\", optimizer=SGD(learning_rate=0.01), metrics=[Ratio()])\n",
    "dnn.fit(X_train, y_train, epochs=10, batch_size=32, validation_data=(X_test, y_test))\n",
    "dnn.save(\"custom_component_model.h5\") \n",
    "dnn = load_model(\"custom_component_model.h5\", custom_objects={\"Ratio\":Ratio})\n",
    "dnn.evaluate(X_test, y_test, batch_size=32)"
   ]
  },
  {
   "cell_type": "markdown",
   "id": "j8wQPeyOcUNd",
   "metadata": {
    "id": "j8wQPeyOcUNd"
   },
   "source": [
    "### Custom layer\n",
    "#### A simple dense layer"
   ]
  },
  {
   "cell_type": "code",
   "execution_count": 3,
   "id": "Y4FvzLb8c1bj",
   "metadata": {
    "colab": {
     "base_uri": "https://localhost:8080/"
    },
    "id": "Y4FvzLb8c1bj",
    "outputId": "4f0efa64-5f6b-4e0a-8583-d86a71490c70"
   },
   "outputs": [
    {
     "name": "stdout",
     "output_type": "stream",
     "text": [
      "Epoch 1/10\n",
      "313/313 [==============================] - 1s 3ms/step - loss: 1.7447 - ratio_1: 0.9921 - val_loss: 1.1528 - val_ratio_1: 0.9982\n",
      "Epoch 2/10\n",
      "313/313 [==============================] - 1s 2ms/step - loss: 0.7430 - ratio_1: 0.9957 - val_loss: 0.6146 - val_ratio_1: 1.0002\n",
      "Epoch 3/10\n",
      "313/313 [==============================] - 1s 2ms/step - loss: 0.4713 - ratio_1: 0.9987 - val_loss: 0.4793 - val_ratio_1: 1.0031\n",
      "Epoch 4/10\n",
      "313/313 [==============================] - 1s 2ms/step - loss: 0.3806 - ratio_1: 0.9956 - val_loss: 0.4119 - val_ratio_1: 1.0038\n",
      "Epoch 5/10\n",
      "313/313 [==============================] - 1s 2ms/step - loss: 0.3339 - ratio_1: 1.0008 - val_loss: 0.3985 - val_ratio_1: 1.0025\n",
      "Epoch 6/10\n",
      "313/313 [==============================] - 1s 2ms/step - loss: 0.3006 - ratio_1: 0.9976 - val_loss: 0.3557 - val_ratio_1: 1.0027\n",
      "Epoch 7/10\n",
      "313/313 [==============================] - 1s 2ms/step - loss: 0.2763 - ratio_1: 1.0005 - val_loss: 0.3465 - val_ratio_1: 1.0056\n",
      "Epoch 8/10\n",
      "313/313 [==============================] - 1s 2ms/step - loss: 0.2559 - ratio_1: 0.9987 - val_loss: 0.3326 - val_ratio_1: 1.0047\n",
      "Epoch 9/10\n",
      "313/313 [==============================] - 1s 3ms/step - loss: 0.2387 - ratio_1: 1.0008 - val_loss: 0.3214 - val_ratio_1: 1.0056\n",
      "Epoch 10/10\n",
      "313/313 [==============================] - 1s 2ms/step - loss: 0.2246 - ratio_1: 0.9992 - val_loss: 0.3257 - val_ratio_1: 1.0050\n",
      "32/32 [==============================] - 0s 2ms/step - loss: 0.3257 - ratio_1: 1.0050\n"
     ]
    },
    {
     "data": {
      "text/plain": [
       "[0.32572755217552185, 1.0049924850463867]"
      ]
     },
     "execution_count": 3,
     "metadata": {
      "tags": []
     },
     "output_type": "execute_result"
    }
   ],
   "source": [
    "import tensorflow as tf \n",
    "from tensorflow.keras.layers import Dense\n",
    "from tensorflow.keras.layers import Layer\n",
    "from tensorflow.keras.optimizers import SGD\n",
    "from tensorflow.keras.activations import get, serialize\n",
    "from tensorflow.keras.models import Sequential, load_model\n",
    "\n",
    "class denseLayer(Layer):\n",
    "    def __init__(self, nodes, activation=None, **kwargs):\n",
    "        super().__init__(**kwargs)\n",
    "        self.nodes = nodes \n",
    "        #  Convert the given activation to a appropriate activation function \n",
    "        self.activation = get(activation)\n",
    "\n",
    "    #  Create the layer variables and get the previous input shape\n",
    "    def build(self, batch_input_shape):\n",
    "        self.kernel = self.add_weight(\n",
    "            name=\"kernel\", shape=[batch_input_shape[-1], self.nodes],\n",
    "            initializer=\"glorot_normal\")\n",
    "        self.bias = self.add_weight(\n",
    "            name=\"bias\", shape=[self.nodes], initializer=\"zeros\")\n",
    "        super().build(batch_input_shape)\n",
    "\n",
    "    #  Compute the desired operations\n",
    "    def call(self, X):\n",
    "        return self.activation(X @ self.kernel + self.bias)\n",
    "\n",
    "    #  Return the output shape of your custom layer shape\n",
    "    def compute_output_shape(self, batch_input_shape):\n",
    "        return tf.TensorShape(batch_input_shape.as_list()[:-1] + [self.nodes])\n",
    "\n",
    "    def get_config(self):\n",
    "        base_config = super().get_config()\n",
    "        return {**base_config, \"nodes\": self.nodes,\n",
    "            \"activation\": serialize(self.activation)}\n",
    "\n",
    "dnn = Sequential()\n",
    "dnn.add(Dense(128, input_shape=(784, ), activation=\"relu\"))\n",
    "dnn.add(denseLayer(64, activation=\"relu\"))\n",
    "dnn.add(denseLayer(32, activation=\"relu\"))\n",
    "dnn.add(denseLayer(10, activation=\"softmax\"))\n",
    "dnn.compile(loss=\"categorical_crossentropy\", optimizer=SGD(learning_rate=0.01), metrics=[Ratio()])\n",
    "dnn.fit(X_train, y_train, epochs=10, batch_size=32, validation_data=(X_test, y_test))\n",
    "dnn.save(\"custom_component_model.h5\") \n",
    "dnn = load_model(\"custom_component_model.h5\", custom_objects={\"Ratio\":Ratio, \"denseLayer\":denseLayer})\n",
    "dnn.evaluate(X_test, y_test, batch_size=32)"
   ]
  },
  {
   "cell_type": "markdown",
   "id": "YUaqqTXMkF3k",
   "metadata": {
    "id": "YUaqqTXMkF3k"
   },
   "source": [
    "## Bonus\n",
    "### Multi-Input layer"
   ]
  },
  {
   "cell_type": "code",
   "execution_count": 4,
   "id": "fFSK4dCvkPna",
   "metadata": {
    "id": "fFSK4dCvkPna"
   },
   "outputs": [],
   "source": [
    "from tensorflow.keras.layers import Layer\n",
    "class MyMultiLayer(Layer):\n",
    "    def call(self, X):\n",
    "        X1, X2 = X\n",
    "        return [X1, X2, X1 + X2]\n",
    "    def compute_output_shape(self, batch_input_shape):\n",
    "        b1, b2 = batch_input\n",
    "        return [b1, b2, b1]"
   ]
  }
 ],
 "metadata": {
  "accelerator": "GPU",
  "colab": {
   "collapsed_sections": [],
   "name": "TF_2.ipynb",
   "provenance": []
  },
  "kernelspec": {
   "display_name": "Python 3",
   "language": "python",
   "name": "python3"
  },
  "language_info": {
   "codemirror_mode": {
    "name": "ipython",
    "version": 3
   },
   "file_extension": ".py",
   "mimetype": "text/x-python",
   "name": "python",
   "nbconvert_exporter": "python",
   "pygments_lexer": "ipython3",
   "version": "3.8.8"
  }
 },
 "nbformat": 4,
 "nbformat_minor": 5
}
