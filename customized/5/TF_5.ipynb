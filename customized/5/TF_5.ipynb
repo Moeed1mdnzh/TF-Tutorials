{
  "nbformat": 4,
  "nbformat_minor": 5,
  "metadata": {
    "accelerator": "GPU",
    "colab": {
      "name": "TF_5.ipynb",
      "provenance": [],
      "collapsed_sections": []
    },
    "kernelspec": {
      "display_name": "Python 3",
      "language": "python",
      "name": "python3"
    },
    "language_info": {
      "codemirror_mode": {
        "name": "ipython",
        "version": 3
      },
      "file_extension": ".py",
      "mimetype": "text/x-python",
      "name": "python",
      "nbconvert_exporter": "python",
      "pygments_lexer": "ipython3",
      "version": "3.6.13"
    }
  },
  "cells": [
    {
      "cell_type": "markdown",
      "metadata": {
        "id": "V4EFYBUgPwyx"
      },
      "source": [
        "# TensorFlow crash course\n",
        "### **PART 5**"
      ],
      "id": "V4EFYBUgPwyx"
    },
    {
      "cell_type": "markdown",
      "metadata": {
        "id": "XmW-VhDeg4tD"
      },
      "source": [
        "### Custom model"
      ],
      "id": "XmW-VhDeg4tD"
    },
    {
      "cell_type": "code",
      "metadata": {
        "id": "g-ZsKY6xhBml"
      },
      "source": [
        "#  Implement a model containing residual blocks\n",
        "#  Preview of a residual block\n",
        "#  Dense_1 -> Dense_2 -> Dense_3 -> (Sub_Dense_1 -> Sub_Dense_2 -> Dense_1 + Sub_Dense_2)\n",
        "\n",
        "from tensorflow.keras.layers import Layer\n",
        "from tensorflow.keras.layers import Dense\n",
        "from tensorflow.keras.models import Model\n",
        "\n",
        "class ResidualBlock(Layer): #  Residual block implementation\n",
        "    def __init__(self, n_layers, n_neurons, **kwargs):\n",
        "        super().__init__(**kwargs)\n",
        "        self.hidden = [Dense(n_neurons, activation=\"elu\",\n",
        "                        kernel_initializer=\"he_normal\")\n",
        "                        for _ in range(n_layers)]\n",
        "\n",
        "    def call(self, inputs):\n",
        "        Z = inputs \n",
        "        for layer in self.hidden:\n",
        "            Z = layer(Z)\n",
        "        return inputs + Z\n",
        "\n",
        "\n",
        "#  We use the subclassing API of keras to create custom model\n",
        "\n",
        "class ResidualRegressor(Model):\n",
        "    def __init__(self, output_dim, **kwargs):\n",
        "        super().__init__(**kwargs)\n",
        "        self.hidden1 = Dense(30, activation=\"elu\", \n",
        "                             kernel_initializer=\"he_normal\")\n",
        "        self.block1 = ResidualBlock(2, 30)\n",
        "        self.block2 = ResidualBlock(2, 30)\n",
        "        self.out = Dense(output_dim)\n",
        "\n",
        "    def call(self, inputs):\n",
        "        Z = self.hidden1(inputs)\n",
        "        for _ in range(1 + 3):\n",
        "            Z = self.block1(Z)\n",
        "        Z = self.block2(Z)\n",
        "        return self.out(Z)\n",
        "\n"
      ],
      "id": "g-ZsKY6xhBml",
      "execution_count": null,
      "outputs": []
    },
    {
      "cell_type": "markdown",
      "metadata": {
        "id": "xlGKb1gc-pS_"
      },
      "source": [
        "### Model internal based loss"
      ],
      "id": "xlGKb1gc-pS_"
    },
    {
      "cell_type": "code",
      "metadata": {
        "id": "Bucp4vp_-zx3"
      },
      "source": [
        "#  As we saw in the previous parts we calculate losses and metrics based on y_pred and y_true\n",
        "#  Sometimes we need to calculate losses and metics using other parts of the model such as weights\n",
        "\n",
        "#  Reconstruction loss for a regression DNN with 5 layers\n",
        "\n",
        "class ReconstructingRegressor(Model):\n",
        "    def __init__(self, output_dim, **kwargs):\n",
        "        super().__init__(**kwargs)\n",
        "        self.hidden = [Dense(30, activation=\"selu\",\n",
        "                        kernel_initializer=\"lecun_normal\")\n",
        "                        for _ in range(5)]\n",
        "        self.out = Dense(output_dim)\n",
        "\n",
        "    def build(self, batch_input_shape): #  Build an extra dense layer to reconsturct the inputs\n",
        "        n_inputs = batch_input_shape[-1]\n",
        "        self.reconstruct = Dense(n_inputs)\n",
        "        super().build(batch_input_shape)\n",
        "\n",
        "    def call(self, inputs):\n",
        "        Z = inputs\n",
        "        for layer in self.hidden:\n",
        "            Z = layer(Z)\n",
        "        reconstruction = self.reconstruct(Z)\n",
        "        recon_loss = tf.reduce_mean(tf.square(reconstruction - inputs))\n",
        "        self.add_loss(0.05 * recon_loss)\n",
        "        return self.out(Z)\n",
        "\n"
      ],
      "id": "Bucp4vp_-zx3",
      "execution_count": null,
      "outputs": []
    }
  ]
}