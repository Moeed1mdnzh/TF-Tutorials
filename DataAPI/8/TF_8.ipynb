{
  "nbformat": 4,
  "nbformat_minor": 5,
  "metadata": {
    "colab": {
      "name": "TF_2.ipynb",
      "provenance": [],
      "collapsed_sections": []
    },
    "kernelspec": {
      "display_name": "Python 3",
      "language": "python",
      "name": "python3"
    },
    "language_info": {
      "codemirror_mode": {
        "name": "ipython",
        "version": 3
      },
      "file_extension": ".py",
      "mimetype": "text/x-python",
      "name": "python",
      "nbconvert_exporter": "python",
      "pygments_lexer": "ipython3",
      "version": "3.6.13"
    }
  },
  "cells": [
    {
      "cell_type": "markdown",
      "metadata": {
        "id": "V4EFYBUgPwyx"
      },
      "source": [
        "# TensorFlow crash course\n",
        "### **PART 8**"
      ],
      "id": "V4EFYBUgPwyx"
    },
    {
      "cell_type": "markdown",
      "metadata": {
        "id": "7hxdp0vuAawO"
      },
      "source": [
        "## The Data API\n",
        "### This API is used to read and preprocess large data efficiently"
      ],
      "id": "7hxdp0vuAawO"
    },
    {
      "cell_type": "markdown",
      "metadata": {
        "id": "D2suTxmZBL6n"
      },
      "source": [
        "### Data slicing"
      ],
      "id": "D2suTxmZBL6n"
    },
    {
      "cell_type": "code",
      "metadata": {
        "colab": {
          "base_uri": "https://localhost:8080/"
        },
        "id": "ZKm16x4fBQn1",
        "outputId": "6ab686cb-48ff-44d8-ad71-2d9923daf5a8"
      },
      "source": [
        "import tensorflow as tf\n",
        "X = tf.range(10)\n",
        "dataset = tf.data.Dataset.from_tensor_slices(X) #  Splits the data into 10 parts to fit in ram \n",
        "for item in dataset:\n",
        "    print(item)"
      ],
      "id": "ZKm16x4fBQn1",
      "execution_count": 1,
      "outputs": [
        {
          "output_type": "stream",
          "name": "stdout",
          "text": [
            "tf.Tensor(0, shape=(), dtype=int32)\n",
            "tf.Tensor(1, shape=(), dtype=int32)\n",
            "tf.Tensor(2, shape=(), dtype=int32)\n",
            "tf.Tensor(3, shape=(), dtype=int32)\n",
            "tf.Tensor(4, shape=(), dtype=int32)\n",
            "tf.Tensor(5, shape=(), dtype=int32)\n",
            "tf.Tensor(6, shape=(), dtype=int32)\n",
            "tf.Tensor(7, shape=(), dtype=int32)\n",
            "tf.Tensor(8, shape=(), dtype=int32)\n",
            "tf.Tensor(9, shape=(), dtype=int32)\n"
          ]
        }
      ]
    },
    {
      "cell_type": "markdown",
      "metadata": {
        "id": "Shw21YSCCOzb"
      },
      "source": [
        "### Chaining trasformation"
      ],
      "id": "Shw21YSCCOzb"
    },
    {
      "cell_type": "code",
      "metadata": {
        "colab": {
          "base_uri": "https://localhost:8080/"
        },
        "id": "TWcxA2OwCS6H",
        "outputId": "d95082db-5d4c-4090-c9dc-7f6cf73d533b"
      },
      "source": [
        "repeated = dataset.repeat(3) #  Repeats the data 3 times\n",
        "dataset = repeated.batch(7) #  Splits the data to batches of size 7\n",
        "for item in dataset:\n",
        "    print(item)"
      ],
      "id": "TWcxA2OwCS6H",
      "execution_count": 2,
      "outputs": [
        {
          "output_type": "stream",
          "name": "stdout",
          "text": [
            "tf.Tensor([0 1 2 3 4 5 6], shape=(7,), dtype=int32)\n",
            "tf.Tensor([7 8 9 0 1 2 3], shape=(7,), dtype=int32)\n",
            "tf.Tensor([4 5 6 7 8 9 0], shape=(7,), dtype=int32)\n",
            "tf.Tensor([1 2 3 4 5 6 7], shape=(7,), dtype=int32)\n",
            "tf.Tensor([8 9], shape=(2,), dtype=int32)\n"
          ]
        }
      ]
    },
    {
      "cell_type": "markdown",
      "metadata": {
        "id": "evUapK2VDrWa"
      },
      "source": [
        "### Custom transformation\n",
        "#### Note : If your function contains intensive computions, set num_parallel_calls to True"
      ],
      "id": "evUapK2VDrWa"
    },
    {
      "cell_type": "markdown",
      "metadata": {
        "id": "4wjug5kG_7k6"
      },
      "source": [
        "#### Mapping"
      ],
      "id": "4wjug5kG_7k6"
    },
    {
      "cell_type": "code",
      "metadata": {
        "id": "sRamz5_aDuTk"
      },
      "source": [
        "#  Think of it as a the python's map funcion\n",
        "dataset = dataset.map(lambda x: x ** 2)"
      ],
      "id": "sRamz5_aDuTk",
      "execution_count": 3,
      "outputs": []
    },
    {
      "cell_type": "markdown",
      "metadata": {
        "id": "faZWSN4w__mq"
      },
      "source": [
        "#### Applying"
      ],
      "id": "faZWSN4w__mq"
    },
    {
      "cell_type": "code",
      "metadata": {
        "colab": {
          "base_uri": "https://localhost:8080/"
        },
        "id": "g8NJsh_kABmy",
        "outputId": "7e89f293-a80d-4d78-de5d-3e8d19e933bf"
      },
      "source": [
        "#  The same as mapping instead the whole dataset gets transformed\n",
        "dataset = dataset.apply(tf.data.experimental.unbatch())"
      ],
      "id": "g8NJsh_kABmy",
      "execution_count": 4,
      "outputs": [
        {
          "output_type": "stream",
          "name": "stdout",
          "text": [
            "WARNING:tensorflow:From <ipython-input-4-1337f3943c80>:2: unbatch (from tensorflow.python.data.experimental.ops.batching) is deprecated and will be removed in a future version.\n",
            "Instructions for updating:\n",
            "Use `tf.data.Dataset.unbatch()`.\n"
          ]
        }
      ]
    },
    {
      "cell_type": "markdown",
      "metadata": {
        "id": "OqFX6g9bA8IR"
      },
      "source": [
        "#### Filtering"
      ],
      "id": "OqFX6g9bA8IR"
    },
    {
      "cell_type": "code",
      "metadata": {
        "colab": {
          "base_uri": "https://localhost:8080/"
        },
        "id": "0vBhlrLGA9y0",
        "outputId": "7726dcbe-7f04-4db1-dda2-15c80e723a2b"
      },
      "source": [
        "#  Think of it as a the python's filter funcion\n",
        "dataset = dataset.filter(lambda x: x < 10)\n",
        "for item in dataset.take(4):\n",
        "    #  take() helps you to pick a few items to look at, in this case 4 items\n",
        "    print(item)"
      ],
      "id": "0vBhlrLGA9y0",
      "execution_count": 5,
      "outputs": [
        {
          "output_type": "stream",
          "name": "stdout",
          "text": [
            "tf.Tensor(0, shape=(), dtype=int32)\n",
            "tf.Tensor(1, shape=(), dtype=int32)\n",
            "tf.Tensor(4, shape=(), dtype=int32)\n",
            "tf.Tensor(9, shape=(), dtype=int32)\n"
          ]
        }
      ]
    },
    {
      "cell_type": "markdown",
      "metadata": {
        "id": "O-MWo1csB9D8"
      },
      "source": [
        "### Data shuffling"
      ],
      "id": "O-MWo1csB9D8"
    },
    {
      "cell_type": "code",
      "metadata": {
        "id": "0n4WyZeqB_sj",
        "colab": {
          "base_uri": "https://localhost:8080/"
        },
        "outputId": "4c42a75a-0667-471c-e617-c22eb3fd2d69"
      },
      "source": [
        "dataset = dataset.shuffle(buffer_size=1000, seed=42).batch(7) \n",
        "#  buffer_size specifies the amount of ram to be used to shuffle the data\n",
        "for item in dataset:\n",
        "    print(item)\n",
        "#  Note : calling repeat() on a shuffled dataset generates a new order, set reshuffle_each_iteration to False to prevent. "
      ],
      "id": "0n4WyZeqB_sj",
      "execution_count": 6,
      "outputs": [
        {
          "output_type": "stream",
          "name": "stdout",
          "text": [
            "tf.Tensor([1 1 0 4 1 9 4], shape=(7,), dtype=int32)\n",
            "tf.Tensor([0 4 9 9 0], shape=(5,), dtype=int32)\n"
          ]
        }
      ]
    }
  ]
}