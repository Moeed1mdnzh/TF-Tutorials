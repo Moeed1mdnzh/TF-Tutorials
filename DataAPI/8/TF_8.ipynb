{
 "cells": [
  {
   "cell_type": "markdown",
   "id": "V4EFYBUgPwyx",
   "metadata": {
    "id": "V4EFYBUgPwyx"
   },
   "source": [
    "# TensorFlow crash course\n",
    "### **PART 8**"
   ]
  },
  {
   "cell_type": "markdown",
   "id": "7hxdp0vuAawO",
   "metadata": {
    "id": "7hxdp0vuAawO"
   },
   "source": [
    "## The Data API\n",
    "### This API is used to read and preprocess large data efficiently"
   ]
  },
  {
   "cell_type": "markdown",
   "id": "D2suTxmZBL6n",
   "metadata": {
    "id": "D2suTxmZBL6n"
   },
   "source": [
    "### Data slicing"
   ]
  },
  {
   "cell_type": "code",
   "execution_count": 1,
   "id": "ZKm16x4fBQn1",
   "metadata": {
    "colab": {
     "base_uri": "https://localhost:8080/"
    },
    "id": "ZKm16x4fBQn1",
    "outputId": "6ab686cb-48ff-44d8-ad71-2d9923daf5a8"
   },
   "outputs": [
    {
     "name": "stdout",
     "output_type": "stream",
     "text": [
      "tf.Tensor(0, shape=(), dtype=int32)\n",
      "tf.Tensor(1, shape=(), dtype=int32)\n",
      "tf.Tensor(2, shape=(), dtype=int32)\n",
      "tf.Tensor(3, shape=(), dtype=int32)\n",
      "tf.Tensor(4, shape=(), dtype=int32)\n",
      "tf.Tensor(5, shape=(), dtype=int32)\n",
      "tf.Tensor(6, shape=(), dtype=int32)\n",
      "tf.Tensor(7, shape=(), dtype=int32)\n",
      "tf.Tensor(8, shape=(), dtype=int32)\n",
      "tf.Tensor(9, shape=(), dtype=int32)\n"
     ]
    }
   ],
   "source": [
    "import tensorflow as tf\n",
    "X = tf.range(10)\n",
    "dataset = tf.data.Dataset.from_tensor_slices(X)  # Splits the data into 10 parts to fit in ram \n",
    "for item in dataset:\n",
    "    print(item)"
   ]
  },
  {
   "cell_type": "markdown",
   "id": "Shw21YSCCOzb",
   "metadata": {
    "id": "Shw21YSCCOzb"
   },
   "source": [
    "### Chaining trasformation"
   ]
  },
  {
   "cell_type": "code",
   "execution_count": 2,
   "id": "TWcxA2OwCS6H",
   "metadata": {
    "colab": {
     "base_uri": "https://localhost:8080/"
    },
    "id": "TWcxA2OwCS6H",
    "outputId": "d95082db-5d4c-4090-c9dc-7f6cf73d533b"
   },
   "outputs": [
    {
     "name": "stdout",
     "output_type": "stream",
     "text": [
      "tf.Tensor([0 1 2 3 4 5 6], shape=(7,), dtype=int32)\n",
      "tf.Tensor([7 8 9 0 1 2 3], shape=(7,), dtype=int32)\n",
      "tf.Tensor([4 5 6 7 8 9 0], shape=(7,), dtype=int32)\n",
      "tf.Tensor([1 2 3 4 5 6 7], shape=(7,), dtype=int32)\n",
      "tf.Tensor([8 9], shape=(2,), dtype=int32)\n"
     ]
    }
   ],
   "source": [
    "repeated = dataset.repeat(3)  # Repeats the data 3 times\n",
    "dataset = repeated.batch(7)  # Splits the data to batches of size 7\n",
    "for item in dataset:\n",
    "    print(item)"
   ]
  },
  {
   "cell_type": "markdown",
   "id": "evUapK2VDrWa",
   "metadata": {
    "id": "evUapK2VDrWa"
   },
   "source": [
    "### Custom transformation\n",
    "#### Note : If your function contains intensive computions, set num_parallel_calls to True"
   ]
  },
  {
   "cell_type": "markdown",
   "id": "4wjug5kG_7k6",
   "metadata": {
    "id": "4wjug5kG_7k6"
   },
   "source": [
    "#### Mapping"
   ]
  },
  {
   "cell_type": "code",
   "execution_count": 3,
   "id": "sRamz5_aDuTk",
   "metadata": {
    "id": "sRamz5_aDuTk"
   },
   "outputs": [],
   "source": [
    "# Think of it as a the python's map funcion\n",
    "dataset = dataset.map(lambda x: x ** 2)"
   ]
  },
  {
   "cell_type": "markdown",
   "id": "faZWSN4w__mq",
   "metadata": {
    "id": "faZWSN4w__mq"
   },
   "source": [
    "#### Applying"
   ]
  },
  {
   "cell_type": "code",
   "execution_count": 4,
   "id": "g8NJsh_kABmy",
   "metadata": {
    "colab": {
     "base_uri": "https://localhost:8080/"
    },
    "id": "g8NJsh_kABmy",
    "outputId": "7e89f293-a80d-4d78-de5d-3e8d19e933bf"
   },
   "outputs": [
    {
     "name": "stdout",
     "output_type": "stream",
     "text": [
      "WARNING:tensorflow:From <ipython-input-4-1337f3943c80>:2: unbatch (from tensorflow.python.data.experimental.ops.batching) is deprecated and will be removed in a future version.\n",
      "Instructions for updating:\n",
      "Use `tf.data.Dataset.unbatch()`.\n"
     ]
    }
   ],
   "source": [
    "# The same as mapping instead the whole dataset gets transformed\n",
    "dataset = dataset.apply(tf.data.experimental.unbatch())"
   ]
  },
  {
   "cell_type": "markdown",
   "id": "OqFX6g9bA8IR",
   "metadata": {
    "id": "OqFX6g9bA8IR"
   },
   "source": [
    "#### Filtering"
   ]
  },
  {
   "cell_type": "code",
   "execution_count": 5,
   "id": "0vBhlrLGA9y0",
   "metadata": {
    "colab": {
     "base_uri": "https://localhost:8080/"
    },
    "id": "0vBhlrLGA9y0",
    "outputId": "7726dcbe-7f04-4db1-dda2-15c80e723a2b"
   },
   "outputs": [
    {
     "name": "stdout",
     "output_type": "stream",
     "text": [
      "tf.Tensor(0, shape=(), dtype=int32)\n",
      "tf.Tensor(1, shape=(), dtype=int32)\n",
      "tf.Tensor(4, shape=(), dtype=int32)\n",
      "tf.Tensor(9, shape=(), dtype=int32)\n"
     ]
    }
   ],
   "source": [
    "# Think of it as a the python's filter funcion\n",
    "dataset = dataset.filter(lambda x: x < 10)\n",
    "for item in dataset.take(4):\n",
    "    # take() helps you to pick a few items to look at, in this case 4 items\n",
    "    print(item)"
   ]
  },
  {
   "cell_type": "markdown",
   "id": "O-MWo1csB9D8",
   "metadata": {
    "id": "O-MWo1csB9D8"
   },
   "source": [
    "### Data shuffling"
   ]
  },
  {
   "cell_type": "code",
   "execution_count": 6,
   "id": "0n4WyZeqB_sj",
   "metadata": {
    "colab": {
     "base_uri": "https://localhost:8080/"
    },
    "id": "0n4WyZeqB_sj",
    "outputId": "4c42a75a-0667-471c-e617-c22eb3fd2d69"
   },
   "outputs": [
    {
     "name": "stdout",
     "output_type": "stream",
     "text": [
      "tf.Tensor([1 1 0 4 1 9 4], shape=(7,), dtype=int32)\n",
      "tf.Tensor([0 4 9 9 0], shape=(5,), dtype=int32)\n"
     ]
    }
   ],
   "source": [
    "dataset = dataset.shuffle(buffer_size=1000, seed=42).batch(7) \n",
    "# buffer_size specifies the amount of ram to be used to shuffle the data\n",
    "for item in dataset:\n",
    "    print(item)\n",
    "# Note : calling repeat() on a shuffled dataset generates a new order, set reshuffle_each_iteration to False to prevent. "
   ]
  }
 ],
 "metadata": {
  "colab": {
   "collapsed_sections": [],
   "name": "TF_2.ipynb",
   "provenance": []
  },
  "kernelspec": {
   "display_name": "Python 3 (ipykernel)",
   "language": "python",
   "name": "python3"
  },
  "language_info": {
   "codemirror_mode": {
    "name": "ipython",
    "version": 3
   },
   "file_extension": ".py",
   "mimetype": "text/x-python",
   "name": "python",
   "nbconvert_exporter": "python",
   "pygments_lexer": "ipython3",
   "version": "3.8.6"
  }
 },
 "nbformat": 4,
 "nbformat_minor": 5
}
