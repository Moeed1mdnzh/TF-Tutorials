{
 "cells": [
  {
   "cell_type": "markdown",
   "id": "nGF3bpjaehmK",
   "metadata": {
    "id": "nGF3bpjaehmK"
   },
   "source": [
    "# TensorFlow crash course\n",
    "### **PART 11**"
   ]
  },
  {
   "cell_type": "markdown",
   "id": "7POfqC41-vsc",
   "metadata": {
    "id": "7POfqC41-vsc"
   },
   "source": [
    "### One-Hot vectors"
   ]
  },
  {
   "cell_type": "code",
   "execution_count": 1,
   "id": "i3ej1k7_-zOe",
   "metadata": {
    "id": "i3ej1k7_-zOe"
   },
   "outputs": [],
   "source": [
    "import tensorflow as tf\n",
    "vocab = [\"<H1 OCEAN\", \"INLAND\", \"NEAR OCEAN\", \"NEAR BAY\", \"ISLAND\"]\n",
    "indices = tf.range(len(vocab), dtype=tf.int64)\n",
    "table_init = tf.lookup.KeyValueTensorInitializer(vocab, indices)\n",
    "num_oov_buckets = 2\n",
    "table = tf.lookup.StaticVocabularyTable(table_init, num_oov_buckets)"
   ]
  },
  {
   "cell_type": "code",
   "execution_count": 2,
   "id": "nQMmqjizBF1L",
   "metadata": {
    "colab": {
     "base_uri": "https://localhost:8080/"
    },
    "id": "nQMmqjizBF1L",
    "outputId": "5fcb85c8-4753-4e35-c375-7a0e3ea5005e"
   },
   "outputs": [
    {
     "name": "stdout",
     "output_type": "stream",
     "text": [
      "tf.Tensor([2 4], shape=(2,), dtype=int64)\n",
      "tf.Tensor(\n",
      "[[0. 0. 1. 0. 0. 0. 0.]\n",
      " [0. 0. 0. 0. 1. 0. 0.]], shape=(2, 7), dtype=float32)\n"
     ]
    }
   ],
   "source": [
    "categories = tf.constant([\"NEAR OCEAN\", \"ISLAND\"])\n",
    "cat_indices = table.lookup(categories)  # Convert from categorical to numerical features\n",
    "print(cat_indices)\n",
    "cat_one_hot = tf.one_hot(cat_indices, depth=len(vocab) + num_oov_buckets)  # Perform one-hot encoding\n",
    "print(cat_one_hot)"
   ]
  },
  {
   "cell_type": "markdown",
   "id": "SQwLhy1kC89_",
   "metadata": {
    "id": "SQwLhy1kC89_"
   },
   "source": [
    "###  Encoding categorical features using embeddings\n"
   ]
  },
  {
   "cell_type": "code",
   "execution_count": 3,
   "id": "j9cnrCvJDPnC",
   "metadata": {
    "colab": {
     "base_uri": "https://localhost:8080/"
    },
    "id": "j9cnrCvJDPnC",
    "outputId": "a6c86cd7-daec-4ab0-e1af-84146f140f7b"
   },
   "outputs": [
    {
     "name": "stdout",
     "output_type": "stream",
     "text": [
      "<tf.Variable 'Variable:0' shape=(7, 2) dtype=float32, numpy=\n",
      "array([[0.098189  , 0.1817143 ],\n",
      "       [0.48924458, 0.00195718],\n",
      "       [0.76755476, 0.7591735 ],\n",
      "       [0.93146956, 0.12598276],\n",
      "       [0.77654743, 0.2661816 ],\n",
      "       [0.24250579, 0.07413757],\n",
      "       [0.6545149 , 0.24897623]], dtype=float32)>\n",
      "tf.Tensor([3 5 1 1], shape=(4,), dtype=int64)\n",
      "tf.Tensor(\n",
      "[[0.93146956 0.12598276]\n",
      " [0.24250579 0.07413757]\n",
      " [0.48924458 0.00195718]\n",
      " [0.48924458 0.00195718]], shape=(4, 2), dtype=float32)\n"
     ]
    }
   ],
   "source": [
    "embedding_dim = 2\n",
    "embed_init = tf.random.uniform([len(vocab) + num_oov_buckets, embedding_dim])\n",
    "embedding_matrix = tf.Variable(embed_init)\n",
    "print(embedding_matrix)\n",
    "categories = tf.constant([\"NEAR BAY\", \"DESERT\", \"INLAND\", \"INLAND\"])\n",
    "cat_indices = table.lookup(categories)\n",
    "print(cat_indices)\n",
    "print(tf.nn.embedding_lookup(embedding_matrix, cat_indices))"
   ]
  }
 ],
 "metadata": {
  "colab": {
   "collapsed_sections": [],
   "name": "TF-1.ipynb",
   "provenance": []
  },
  "kernelspec": {
   "display_name": "Python 3 (ipykernel)",
   "language": "python",
   "name": "python3"
  },
  "language_info": {
   "codemirror_mode": {
    "name": "ipython",
    "version": 3
   },
   "file_extension": ".py",
   "mimetype": "text/x-python",
   "name": "python",
   "nbconvert_exporter": "python",
   "pygments_lexer": "ipython3",
   "version": "3.8.6"
  }
 },
 "nbformat": 4,
 "nbformat_minor": 5
}
