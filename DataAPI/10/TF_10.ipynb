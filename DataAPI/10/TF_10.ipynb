{
 "cells": [
  {
   "cell_type": "markdown",
   "id": "nGF3bpjaehmK",
   "metadata": {
    "id": "nGF3bpjaehmK"
   },
   "source": [
    "# TensorFlow crash course\n",
    "### **PART 10**"
   ]
  },
  {
   "cell_type": "markdown",
   "id": "4kh_wul8hSp8",
   "metadata": {
    "id": "4kh_wul8hSp8"
   },
   "source": [
    "### Protobufs\n",
    "#### Writing"
   ]
  },
  {
   "cell_type": "code",
   "execution_count": 1,
   "id": "s3JXygrkhZop",
   "metadata": {
    "id": "s3JXygrkhZop"
   },
   "outputs": [],
   "source": [
    "import tensorflow as tf\n",
    "from tensorflow.train import Feature, Features, Example\n",
    "from tensorflow.train import BytesList, FloatList, Int64List\n",
    "\n",
    "person_example = Example(\n",
    "    features=Features(\n",
    "        feature={\n",
    "            \"name\": Feature(bytes_list=BytesList(value=[b\"Alice\"])),\n",
    "            \"id\": Feature(int64_list=Int64List(value=[123])),\n",
    "            \"emails\": Feature(bytes_list=BytesList(value=[b\"a@b.com\",\n",
    "                                                        b\"c@d.com\"]))\n",
    "        }\n",
    "    )\n",
    ")\n",
    "\n",
    "with tf.io.TFRecordWriter(\"my_contacts.tfrecord\") as f:\n",
    "    f.write(person_example.SerializeToString())"
   ]
  },
  {
   "cell_type": "markdown",
   "id": "Jz-42pwG-Rdn",
   "metadata": {
    "id": "Jz-42pwG-Rdn"
   },
   "source": [
    "#### Loading"
   ]
  },
  {
   "cell_type": "code",
   "execution_count": 2,
   "id": "6Zb3ah1t-Tlx",
   "metadata": {
    "id": "6Zb3ah1t-Tlx"
   },
   "outputs": [],
   "source": [
    "feature_description = {  # Maps the names of the features and their shape\n",
    "                       \"name\":tf.io.FixedLenFeature([], tf.string, default_value=\"\"),\n",
    "                       \"id\":tf.io.FixedLenFeature([], tf.int64, default_value=0),\n",
    "                       \"emails\":tf.io.VarLenFeature(tf.string)\n",
    "}\n",
    "\n",
    "for serialized_example in tf.data.TFRecordDataset([\"my_contacts.tfrecord\"]):\n",
    "    parsed_example = tf.io.parse_single_example(serialized_example,\n",
    "                                                feature_description)"
   ]
  },
  {
   "cell_type": "code",
   "execution_count": 3,
   "id": "hiHXr4B0ArOJ",
   "metadata": {
    "colab": {
     "base_uri": "https://localhost:8080/"
    },
    "id": "hiHXr4B0ArOJ",
    "outputId": "8da04e4b-a92b-4971-e8c1-9bd4e2c582c4"
   },
   "outputs": [
    {
     "name": "stdout",
     "output_type": "stream",
     "text": [
      "tf.Tensor(b'Alice', shape=(), dtype=string) tf.Tensor(123, shape=(), dtype=int64) tf.Tensor([b'a@b.com' b'c@d.com'], shape=(2,), dtype=string)\n"
     ]
    }
   ],
   "source": [
    "print(parsed_example[\"name\"], parsed_example[\"id\"], tf.sparse.to_dense(parsed_example[\"emails\"], default_value=b\"\"))"
   ]
  },
  {
   "cell_type": "markdown",
   "id": "qiRJMxn0EE1r",
   "metadata": {
    "id": "qiRJMxn0EE1r"
   },
   "source": [
    "#### Bonus"
   ]
  },
  {
   "cell_type": "code",
   "execution_count": 4,
   "id": "kaNNYDQIEGOT",
   "metadata": {
    "id": "kaNNYDQIEGOT"
   },
   "outputs": [],
   "source": [
    "# To serialize the records all in once use tf.io.parse_example() instead\n",
    "dataset = tf.data.TFRecordDataset([\"my_contacts.tfrecord\"]).batch(10)\n",
    "for serialized_examples in dataset:\n",
    "    parsed_examples = tf.io.parse_example(serialized_examples, feature_description)"
   ]
  }
 ],
 "metadata": {
  "colab": {
   "collapsed_sections": [],
   "name": "TF-1.ipynb",
   "provenance": []
  },
  "kernelspec": {
   "display_name": "Python 3 (ipykernel)",
   "language": "python",
   "name": "python3"
  },
  "language_info": {
   "codemirror_mode": {
    "name": "ipython",
    "version": 3
   },
   "file_extension": ".py",
   "mimetype": "text/x-python",
   "name": "python",
   "nbconvert_exporter": "python",
   "pygments_lexer": "ipython3",
   "version": "3.8.6"
  }
 },
 "nbformat": 4,
 "nbformat_minor": 5
}
