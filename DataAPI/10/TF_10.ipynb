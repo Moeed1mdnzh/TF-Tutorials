{
  "nbformat": 4,
  "nbformat_minor": 5,
  "metadata": {
    "colab": {
      "name": "TF-1.ipynb",
      "provenance": [],
      "collapsed_sections": []
    },
    "kernelspec": {
      "display_name": "Python 3",
      "language": "python",
      "name": "python3"
    },
    "language_info": {
      "codemirror_mode": {
        "name": "ipython",
        "version": 3
      },
      "file_extension": ".py",
      "mimetype": "text/x-python",
      "name": "python",
      "nbconvert_exporter": "python",
      "pygments_lexer": "ipython3",
      "version": "3.6.13"
    }
  },
  "cells": [
    {
      "cell_type": "markdown",
      "metadata": {
        "id": "nGF3bpjaehmK"
      },
      "source": [
        "# TensorFlow crash course\n",
        "### **PART 10**"
      ],
      "id": "nGF3bpjaehmK"
    },
    {
      "cell_type": "markdown",
      "metadata": {
        "id": "4kh_wul8hSp8"
      },
      "source": [
        "### Protobufs\n",
        "#### Writing"
      ],
      "id": "4kh_wul8hSp8"
    },
    {
      "cell_type": "code",
      "metadata": {
        "id": "s3JXygrkhZop"
      },
      "source": [
        "import tensorflow as tf\n",
        "from tensorflow.train import Feature, Features, Example\n",
        "from tensorflow.train import BytesList, FloatList, Int64List\n",
        "\n",
        "person_example = Example(\n",
        "    features=Features(\n",
        "        feature={\n",
        "            \"name\": Feature(bytes_list=BytesList(value=[b\"Alice\"])),\n",
        "            \"id\": Feature(int64_list=Int64List(value=[123])),\n",
        "            \"emails\": Feature(bytes_list=BytesList(value=[b\"a@b.com\",\n",
        "                                                        b\"c@d.com\"]))\n",
        "        }\n",
        "    )\n",
        ")\n",
        "\n",
        "with tf.io.TFRecordWriter(\"my_contacts.tfrecord\") as f:\n",
        "    f.write(person_example.SerializeToString())"
      ],
      "id": "s3JXygrkhZop",
      "execution_count": 1,
      "outputs": []
    },
    {
      "cell_type": "markdown",
      "metadata": {
        "id": "Jz-42pwG-Rdn"
      },
      "source": [
        "#### Loading"
      ],
      "id": "Jz-42pwG-Rdn"
    },
    {
      "cell_type": "code",
      "metadata": {
        "id": "6Zb3ah1t-Tlx"
      },
      "source": [
        "feature_description = { #  Maps the names of the features and their shape\n",
        "                       \"name\":tf.io.FixedLenFeature([], tf.string, default_value=\"\"),\n",
        "                       \"id\":tf.io.FixedLenFeature([], tf.int64, default_value=0),\n",
        "                       \"emails\":tf.io.VarLenFeature(tf.string)\n",
        "}\n",
        "\n",
        "for serialized_example in tf.data.TFRecordDataset([\"my_contacts.tfrecord\"]):\n",
        "    parsed_example = tf.io.parse_single_example(serialized_example,\n",
        "                                                feature_description)"
      ],
      "id": "6Zb3ah1t-Tlx",
      "execution_count": 2,
      "outputs": []
    },
    {
      "cell_type": "code",
      "metadata": {
        "colab": {
          "base_uri": "https://localhost:8080/"
        },
        "id": "hiHXr4B0ArOJ",
        "outputId": "8da04e4b-a92b-4971-e8c1-9bd4e2c582c4"
      },
      "source": [
        "print(parsed_example[\"name\"], parsed_example[\"id\"], tf.sparse.to_dense(parsed_example[\"emails\"], default_value=b\"\"))"
      ],
      "id": "hiHXr4B0ArOJ",
      "execution_count": 3,
      "outputs": [
        {
          "output_type": "stream",
          "name": "stdout",
          "text": [
            "tf.Tensor(b'Alice', shape=(), dtype=string) tf.Tensor(123, shape=(), dtype=int64) tf.Tensor([b'a@b.com' b'c@d.com'], shape=(2,), dtype=string)\n"
          ]
        }
      ]
    },
    {
      "cell_type": "markdown",
      "metadata": {
        "id": "qiRJMxn0EE1r"
      },
      "source": [
        "#### Bonus"
      ],
      "id": "qiRJMxn0EE1r"
    },
    {
      "cell_type": "code",
      "metadata": {
        "id": "kaNNYDQIEGOT"
      },
      "source": [
        "#  To serialize the records all in once use tf.io.parse_example() instead\n",
        "dataset = tf.data.TFRecordDataset([\"my_contacts.tfrecord\"]).batch(10)\n",
        "for serialized_examples in dataset:\n",
        "    parsed_examples = tf.io.parse_example(serialized_examples, feature_description)"
      ],
      "id": "kaNNYDQIEGOT",
      "execution_count": 4,
      "outputs": []
    }
  ]
}