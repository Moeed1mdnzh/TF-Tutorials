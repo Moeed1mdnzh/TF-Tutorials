{
 "cells": [
  {
   "cell_type": "markdown",
   "id": "V4EFYBUgPwyx",
   "metadata": {
    "id": "V4EFYBUgPwyx"
   },
   "source": [
    "# TensorFlow crash course\n",
    "### **PART 9.3**"
   ]
  },
  {
   "cell_type": "markdown",
   "id": "xRsLZAA_E6F5",
   "metadata": {
    "id": "xRsLZAA_E6F5"
   },
   "source": [
    "## TFRecord\n",
    "TFRecord is TensorFlow's format for storing data for reading efficiently"
   ]
  },
  {
   "cell_type": "markdown",
   "id": "n3kkEuHVJjNl",
   "metadata": {
    "id": "n3kkEuHVJjNl"
   },
   "source": [
    "### Writing"
   ]
  },
  {
   "cell_type": "code",
   "execution_count": 1,
   "id": "LZAarl9jk0gg",
   "metadata": {
    "id": "LZAarl9jk0gg"
   },
   "outputs": [],
   "source": [
    "import tensorflow as tf\n",
    "\n",
    "with tf.io.TFRecordWriter(\"my_data.tfrecord\") as f:\n",
    "    f.write(b\"First record\")\n",
    "    f.write(b\"Second record\")"
   ]
  },
  {
   "cell_type": "markdown",
   "id": "ByCK96qnJoPJ",
   "metadata": {
    "id": "ByCK96qnJoPJ"
   },
   "source": [
    "### Reading"
   ]
  },
  {
   "cell_type": "code",
   "execution_count": 2,
   "id": "6zGu7CPMJGoR",
   "metadata": {
    "colab": {
     "base_uri": "https://localhost:8080/"
    },
    "id": "6zGu7CPMJGoR",
    "outputId": "dfffce0a-2c00-4b6b-b285-b65eed3734e2"
   },
   "outputs": [
    {
     "name": "stdout",
     "output_type": "stream",
     "text": [
      "tf.Tensor(b'First record', shape=(), dtype=string)\n",
      "tf.Tensor(b'Second record', shape=(), dtype=string)\n"
     ]
    }
   ],
   "source": [
    "filepaths = [\"my_data.tfrecord\"]\n",
    "dataset = tf.data.TFRecordDataset(filepaths)\n",
    "for item in dataset:\n",
    "    print(item)"
   ]
  },
  {
   "cell_type": "markdown",
   "id": "bmIKyZ3IKRIa",
   "metadata": {
    "id": "bmIKyZ3IKRIa"
   },
   "source": [
    "### Compressed TFRecord files"
   ]
  },
  {
   "cell_type": "code",
   "execution_count": 3,
   "id": "3wadP8ZyJGtS",
   "metadata": {
    "colab": {
     "base_uri": "https://localhost:8080/"
    },
    "id": "3wadP8ZyJGtS",
    "outputId": "1a99fd12-a4de-4b23-f649-9d18c1407d5f"
   },
   "outputs": [
    {
     "name": "stdout",
     "output_type": "stream",
     "text": [
      "tf.Tensor(b'First compressed record', shape=(), dtype=string)\n",
      "tf.Tensor(b'Second compressed record', shape=(), dtype=string)\n"
     ]
    }
   ],
   "source": [
    "options = tf.io.TFRecordOptions(compression_type=\"GZIP\")\n",
    "with tf.io.TFRecordWriter(\"my_compressed.tfrecord\", options) as f:\n",
    "    f.write(b\"First compressed record\")\n",
    "    f.write(b\"Second compressed record\")\n",
    "\n",
    "dataset = tf.data.TFRecordDataset([\"my_compressed.tfrecord\"], compression_type=\"GZIP\")\n",
    "for item in dataset:\n",
    "    print(item)    "
   ]
  }
 ],
 "metadata": {
  "colab": {
   "collapsed_sections": [],
   "name": "TF_2.ipynb",
   "provenance": []
  },
  "kernelspec": {
   "display_name": "Python 3 (ipykernel)",
   "language": "python",
   "name": "python3"
  },
  "language_info": {
   "codemirror_mode": {
    "name": "ipython",
    "version": 3
   },
   "file_extension": ".py",
   "mimetype": "text/x-python",
   "name": "python",
   "nbconvert_exporter": "python",
   "pygments_lexer": "ipython3",
   "version": "3.8.6"
  }
 },
 "nbformat": 4,
 "nbformat_minor": 5
}
