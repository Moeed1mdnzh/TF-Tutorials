{
  "nbformat": 4,
  "nbformat_minor": 5,
  "metadata": {
    "colab": {
      "name": "TF-1.ipynb",
      "provenance": [],
      "collapsed_sections": []
    },
    "kernelspec": {
      "display_name": "Python 3",
      "language": "python",
      "name": "python3"
    },
    "language_info": {
      "codemirror_mode": {
        "name": "ipython",
        "version": 3
      },
      "file_extension": ".py",
      "mimetype": "text/x-python",
      "name": "python",
      "nbconvert_exporter": "python",
      "pygments_lexer": "ipython3",
      "version": "3.6.13"
    }
  },
  "cells": [
    {
      "cell_type": "markdown",
      "metadata": {
        "id": "nGF3bpjaehmK"
      },
      "source": [
        "# TensorFlow crash course\n",
        "### **PART 12**"
      ],
      "id": "nGF3bpjaehmK"
    },
    {
      "cell_type": "markdown",
      "metadata": {
        "id": "_4GRajBxVngz"
      },
      "source": [
        "### The TensorFlow datasets"
      ],
      "id": "_4GRajBxVngz"
    },
    {
      "cell_type": "markdown",
      "metadata": {
        "id": "phs92JCLVq6a"
      },
      "source": [
        "#### Installation"
      ],
      "id": "phs92JCLVq6a"
    },
    {
      "cell_type": "code",
      "metadata": {
        "colab": {
          "base_uri": "https://localhost:8080/"
        },
        "id": "HnbsZmHhVs1-",
        "outputId": "f596f14b-eb22-4eb4-a713-bc5b8f1fd6c9"
      },
      "source": [
        "!pip install tensorflow_datasets"
      ],
      "id": "HnbsZmHhVs1-",
      "execution_count": 1,
      "outputs": [
        {
          "output_type": "stream",
          "name": "stdout",
          "text": [
            "Requirement already satisfied: tensorflow_datasets in /usr/local/lib/python3.7/dist-packages (4.0.1)\n",
            "Requirement already satisfied: importlib-resources in /usr/local/lib/python3.7/dist-packages (from tensorflow_datasets) (5.2.2)\n",
            "Requirement already satisfied: protobuf>=3.6.1 in /usr/local/lib/python3.7/dist-packages (from tensorflow_datasets) (3.17.3)\n",
            "Requirement already satisfied: tensorflow-metadata in /usr/local/lib/python3.7/dist-packages (from tensorflow_datasets) (1.2.0)\n",
            "Requirement already satisfied: attrs>=18.1.0 in /usr/local/lib/python3.7/dist-packages (from tensorflow_datasets) (21.2.0)\n",
            "Requirement already satisfied: dm-tree in /usr/local/lib/python3.7/dist-packages (from tensorflow_datasets) (0.1.6)\n",
            "Requirement already satisfied: numpy in /usr/local/lib/python3.7/dist-packages (from tensorflow_datasets) (1.19.5)\n",
            "Requirement already satisfied: promise in /usr/local/lib/python3.7/dist-packages (from tensorflow_datasets) (2.3)\n",
            "Requirement already satisfied: six in /usr/local/lib/python3.7/dist-packages (from tensorflow_datasets) (1.15.0)\n",
            "Requirement already satisfied: termcolor in /usr/local/lib/python3.7/dist-packages (from tensorflow_datasets) (1.1.0)\n",
            "Requirement already satisfied: dill in /usr/local/lib/python3.7/dist-packages (from tensorflow_datasets) (0.3.4)\n",
            "Requirement already satisfied: absl-py in /usr/local/lib/python3.7/dist-packages (from tensorflow_datasets) (0.12.0)\n",
            "Requirement already satisfied: future in /usr/local/lib/python3.7/dist-packages (from tensorflow_datasets) (0.16.0)\n",
            "Requirement already satisfied: requests>=2.19.0 in /usr/local/lib/python3.7/dist-packages (from tensorflow_datasets) (2.23.0)\n",
            "Requirement already satisfied: tqdm in /usr/local/lib/python3.7/dist-packages (from tensorflow_datasets) (4.62.0)\n",
            "Requirement already satisfied: idna<3,>=2.5 in /usr/local/lib/python3.7/dist-packages (from requests>=2.19.0->tensorflow_datasets) (2.10)\n",
            "Requirement already satisfied: certifi>=2017.4.17 in /usr/local/lib/python3.7/dist-packages (from requests>=2.19.0->tensorflow_datasets) (2021.5.30)\n",
            "Requirement already satisfied: chardet<4,>=3.0.2 in /usr/local/lib/python3.7/dist-packages (from requests>=2.19.0->tensorflow_datasets) (3.0.4)\n",
            "Requirement already satisfied: urllib3!=1.25.0,!=1.25.1,<1.26,>=1.21.1 in /usr/local/lib/python3.7/dist-packages (from requests>=2.19.0->tensorflow_datasets) (1.24.3)\n",
            "Requirement already satisfied: zipp>=3.1.0 in /usr/local/lib/python3.7/dist-packages (from importlib-resources->tensorflow_datasets) (3.5.0)\n",
            "Requirement already satisfied: googleapis-common-protos<2,>=1.52.0 in /usr/local/lib/python3.7/dist-packages (from tensorflow-metadata->tensorflow_datasets) (1.53.0)\n"
          ]
        }
      ]
    },
    {
      "cell_type": "markdown",
      "metadata": {
        "id": "8Tp8GQhyWk5u"
      },
      "source": [
        "#### A simple example in 3 ways"
      ],
      "id": "8Tp8GQhyWk5u"
    },
    {
      "cell_type": "markdown",
      "metadata": {
        "id": "FWWaUsLTX9Mu"
      },
      "source": [
        "##### No.1"
      ],
      "id": "FWWaUsLTX9Mu"
    },
    {
      "cell_type": "code",
      "metadata": {
        "id": "Nf4vl5AVWn4O"
      },
      "source": [
        "import tensorflow_datasets as tfds\n",
        "\n",
        "dataset = tfds.load(name=\"mnist\")\n",
        "train, test = dataset[\"train\"], dataset[\"test\"]\n",
        "\n",
        "train = train.shuffle(10000).batch(32).prefetch(1)\n",
        "for item in train:\n",
        "    images = item[\"image\"]\n",
        "    labels = item[\"label\"]\n"
      ],
      "id": "Nf4vl5AVWn4O",
      "execution_count": 2,
      "outputs": []
    },
    {
      "cell_type": "markdown",
      "metadata": {
        "id": "lv0PzilqYKJH"
      },
      "source": [
        "##### No.2"
      ],
      "id": "lv0PzilqYKJH"
    },
    {
      "cell_type": "code",
      "metadata": {
        "id": "eIMCFeHJYMP6"
      },
      "source": [
        "import tensorflow_datasets as tfds\n",
        "\n",
        "dataset = tfds.load(name=\"mnist\")\n",
        "train, test = dataset[\"train\"], dataset[\"test\"]\n",
        "\n",
        "train = train.shuffle(10000).batch(32)\n",
        "train = train.map(lambda items: (items[\"image\"], items[\"label\"]))\n",
        "train = train.prefetch(1)"
      ],
      "id": "eIMCFeHJYMP6",
      "execution_count": 3,
      "outputs": []
    },
    {
      "cell_type": "markdown",
      "metadata": {
        "id": "Q9ttiGwHYnh0"
      },
      "source": [
        "##### No.3"
      ],
      "id": "Q9ttiGwHYnh0"
    },
    {
      "cell_type": "code",
      "metadata": {
        "id": "3vL65C68YpVI"
      },
      "source": [
        "import tensorflow_datasets as tfds\n",
        "\n",
        "dataset = tfds.load(name=\"mnist\", batch_size=32, as_supervised=True)\n",
        "train = dataset[\"train\"].prefetch(1)"
      ],
      "id": "3vL65C68YpVI",
      "execution_count": 4,
      "outputs": []
    }
  ]
}